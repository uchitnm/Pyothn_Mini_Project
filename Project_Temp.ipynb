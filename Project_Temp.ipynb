{
 "cells": [
  {
   "cell_type": "code",
   "execution_count": 40,
   "metadata": {},
   "outputs": [],
   "source": [
    "import requests\n",
    "\n",
    "# url = \"https://api.apilayer.com/fixer/convert?to=USD&from=EUR&amount=5\"\n",
    "url = \"https://api.apilayer.com/fixer/symbols?\"\n",
    "\n",
    "payload = {}\n",
    "headers= {\n",
    "  \"apikey\": \"gibY1ggFgTfO5XY02pF69ZWZLYaOTFec\"\n",
    "}\n",
    "\n",
    "response = requests.request(\"GET\", url, headers=headers, data = payload)\n",
    "\n",
    "status_code = response.status_code\n",
    "result = response.json()\n"
   ]
  },
  {
   "cell_type": "code",
   "execution_count": 55,
   "metadata": {},
   "outputs": [
    {
     "name": "stdout",
     "output_type": "stream",
     "text": [
      "dict_keys(['AED', 'AFN', 'ALL', 'AMD', 'ANG', 'AOA', 'ARS', 'AUD', 'AWG', 'AZN', 'BAM', 'BBD', 'BDT', 'BGN', 'BHD', 'BIF', 'BMD', 'BND', 'BOB', 'BRL', 'BSD', 'BTC', 'BTN', 'BWP', 'BYN', 'BYR', 'BZD', 'CAD', 'CDF', 'CHF', 'CLF', 'CLP', 'CNY', 'COP', 'CRC', 'CUC', 'CUP', 'CVE', 'CZK', 'DJF', 'DKK', 'DOP', 'DZD', 'EGP', 'ERN', 'ETB', 'EUR', 'FJD', 'FKP', 'GBP', 'GEL', 'GGP', 'GHS', 'GIP', 'GMD', 'GNF', 'GTQ', 'GYD', 'HKD', 'HNL', 'HRK', 'HTG', 'HUF', 'IDR', 'ILS', 'IMP', 'INR', 'IQD', 'IRR', 'ISK', 'JEP', 'JMD', 'JOD', 'JPY', 'KES', 'KGS', 'KHR', 'KMF', 'KPW', 'KRW', 'KWD', 'KYD', 'KZT', 'LAK', 'LBP', 'LKR', 'LRD', 'LSL', 'LTL', 'LVL', 'LYD', 'MAD', 'MDL', 'MGA', 'MKD', 'MMK', 'MNT', 'MOP', 'MRO', 'MUR', 'MVR', 'MWK', 'MXN', 'MYR', 'MZN', 'NAD', 'NGN', 'NIO', 'NOK', 'NPR', 'NZD', 'OMR', 'PAB', 'PEN', 'PGK', 'PHP', 'PKR', 'PLN', 'PYG', 'QAR', 'RON', 'RSD', 'RUB', 'RWF', 'SAR', 'SBD', 'SCR', 'SDG', 'SEK', 'SGD', 'SHP', 'SLL', 'SOS', 'SRD', 'STD', 'SVC', 'SYP', 'SZL', 'THB', 'TJS', 'TMT', 'TND', 'TOP', 'TRY', 'TTD', 'TWD', 'TZS', 'UAH', 'UGX', 'USD', 'UYU', 'UZS', 'VEF', 'VND', 'VUV', 'WST', 'XAF', 'XAG', 'XAU', 'XCD', 'XDR', 'XOF', 'XPF', 'YER', 'ZAR', 'ZMK', 'ZMW', 'ZWL'])\n"
     ]
    }
   ],
   "source": [
    "\n",
    "import json\n",
    "with open('/Users/uchitnm/Desktop/data.json', 'r', encoding=\"utf8\") as f:\n",
    "                    a=json.load(f)\n",
    "                    # json.dump(result, f, indent=4)\n",
    "                    print(a.keys())\n",
    "                    f.close()"
   ]
  },
  {
   "cell_type": "code",
   "execution_count": 61,
   "metadata": {},
   "outputs": [],
   "source": [
    "from tkinter import *\n",
    "\n",
    "wid = Tk()\n",
    "\n",
    "wid.columnconfigure(0,weight=1)\n",
    "\n",
    "source_currency = StringVar ()\n",
    "source_currency. set ('Source Currency')\n",
    "target_currency = StringVar()\n",
    "target_currency. set ('Target Currency')\n",
    "source_text = StringVar()\n",
    "source_text. set ('From: ')\n",
    "target_text = StringVar ()\n",
    "target_text.set ('To: ')\n",
    "amount = StringVar ()\n",
    "amount. set ('0')\n",
    "var_result = StringVar ()\n",
    "var_result.set('0')\n",
    "choice_from = StringVar()\n",
    "choice_to = StringVar()\n",
    "\n",
    "with open('/Users/uchitnm/Desktop/data.json', 'r', encoding=\"utf8\") as f:\n",
    "                    a=json.load(f)\n",
    "                    f.close()\n",
    "\n",
    "choices = list(a.keys())\n",
    "\n",
    "popupMenuFrom = OptionMenu(wid,*choices)\n",
    "popupMenuFrom.grid (row=0, column=1, sticky='W')\n",
    "\n",
    "popupMenuTo = OptionMenu(wid,*choices)\n",
    "popupMenuTo.grid(row=0, column=3, sticky='W')\n",
    "\n",
    "\n",
    "wid.mainloop()"
   ]
  }
 ],
 "metadata": {
  "kernelspec": {
   "display_name": "Python 3.9.13 64-bit",
   "language": "python",
   "name": "python3"
  },
  "language_info": {
   "codemirror_mode": {
    "name": "ipython",
    "version": 3
   },
   "file_extension": ".py",
   "mimetype": "text/x-python",
   "name": "python",
   "nbconvert_exporter": "python",
   "pygments_lexer": "ipython3",
   "version": "3.9.13"
  },
  "orig_nbformat": 4,
  "vscode": {
   "interpreter": {
    "hash": "aee8b7b246df8f9039afb4144a1f6fd8d2ca17a180786b69acc140d282b71a49"
   }
  }
 },
 "nbformat": 4,
 "nbformat_minor": 2
}
